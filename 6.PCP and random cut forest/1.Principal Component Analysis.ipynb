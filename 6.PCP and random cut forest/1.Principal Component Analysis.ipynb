{
 "cells": [
  {
   "cell_type": "markdown",
   "metadata": {},
   "source": [
    "# PCA on MovieLens\n",
    "Principal Component Analysis (PCA) is a dimension reductionality algorithm. It's\n",
    "often applied as a preliminary step before regression or classification. Let's use it on the\n",
    "protobuf dataset built in the Factorization Machines example"
   ]
  },
  {
   "cell_type": "markdown",
   "metadata": {},
   "source": [
    "#### Same steps as before example"
   ]
  },
  {
   "cell_type": "code",
   "execution_count": 2,
   "metadata": {},
   "outputs": [
    {
     "name": "stdout",
     "output_type": "stream",
     "text": [
      "Archive:  ml-100k.zip\n",
      "   creating: ml-100k/\n",
      "  inflating: ml-100k/allbut.pl       \n",
      "  inflating: ml-100k/mku.sh          \n",
      "  inflating: ml-100k/README          \n",
      "  inflating: ml-100k/u.data          \n",
      "  inflating: ml-100k/u.genre         \n",
      "  inflating: ml-100k/u.info          \n",
      "  inflating: ml-100k/u.item          \n",
      "  inflating: ml-100k/u.occupation    \n",
      "  inflating: ml-100k/u.user          \n",
      "  inflating: ml-100k/u1.base         \n",
      "  inflating: ml-100k/u1.test         \n",
      "  inflating: ml-100k/u2.base         \n",
      "  inflating: ml-100k/u2.test         \n",
      "  inflating: ml-100k/u3.base         \n",
      "  inflating: ml-100k/u3.test         \n",
      "  inflating: ml-100k/u4.base         \n",
      "  inflating: ml-100k/u4.test         \n",
      "  inflating: ml-100k/u5.base         \n",
      "  inflating: ml-100k/u5.test         \n",
      "  inflating: ml-100k/ua.base         \n",
      "  inflating: ml-100k/ua.test         \n",
      "  inflating: ml-100k/ub.base         \n",
      "  inflating: ml-100k/ub.test         \n"
     ]
    },
    {
     "name": "stderr",
     "output_type": "stream",
     "text": [
      "--2021-05-03 02:16:27--  http://files.grouplens.org/datasets/movielens/ml-100k.zip\n",
      "Resolving files.grouplens.org (files.grouplens.org)... 128.101.65.152\n",
      "Connecting to files.grouplens.org (files.grouplens.org)|128.101.65.152|:80... connected.\n",
      "HTTP request sent, awaiting response... 200 OK\n",
      "Length: 4924029 (4.7M) [application/zip]\n",
      "Saving to: ‘ml-100k.zip’\n",
      "\n",
      "     0K .......... .......... .......... .......... ..........  1%  109K 44s\n",
      "    50K .......... .......... .......... .......... ..........  2%  215K 33s\n",
      "   100K .......... .......... .......... .......... ..........  3% 9.91M 22s\n",
      "   150K .......... .......... .......... .......... ..........  4% 5.97M 16s\n",
      "   200K .......... .......... .......... .......... ..........  5%  222K 17s\n",
      "   250K .......... .......... .......... .......... ..........  6% 10.4M 14s\n",
      "   300K .......... .......... .......... .......... ..........  7% 7.31M 12s\n",
      "   350K .......... .......... .......... .......... ..........  8% 5.26M 10s\n",
      "   400K .......... .......... .......... .......... ..........  9%  236K 11s\n",
      "   450K .......... .......... .......... .......... .......... 10% 11.0M 10s\n",
      "   500K .......... .......... .......... .......... .......... 11% 7.57M 9s\n",
      "   550K .......... .......... .......... .......... .......... 12% 6.69M 8s\n",
      "   600K .......... .......... .......... .......... .......... 13% 6.80M 8s\n",
      "   650K .......... .......... .......... .......... .......... 14% 6.87M 7s\n",
      "   700K .......... .......... .......... .......... .......... 15% 4.65M 7s\n",
      "   750K .......... .......... .......... .......... .......... 16% 6.61M 6s\n",
      "   800K .......... .......... .......... .......... .......... 17% 8.19M 6s\n",
      "   850K .......... .......... .......... .......... .......... 18%  280K 6s\n",
      "   900K .......... .......... .......... .......... .......... 19% 10.0M 6s\n",
      "   950K .......... .......... .......... .......... .......... 20% 8.12M 5s\n",
      "  1000K .......... .......... .......... .......... .......... 21% 6.79M 5s\n",
      "  1050K .......... .......... .......... .......... .......... 22% 6.73M 5s\n",
      "  1100K .......... .......... .......... .......... .......... 23% 7.04M 5s\n",
      "  1150K .......... .......... .......... .......... .......... 24% 6.67M 4s\n",
      "  1200K .......... .......... .......... .......... .......... 25% 6.88M 4s\n",
      "  1250K .......... .......... .......... .......... .......... 27% 6.69M 4s\n",
      "  1300K .......... .......... .......... .......... .......... 28% 6.77M 4s\n",
      "  1350K .......... .......... .......... .......... .......... 29% 6.88M 4s\n",
      "  1400K .......... .......... .......... .......... .......... 30% 91.7K 5s\n",
      "  1450K .......... .......... .......... .......... .......... 31%  211K 5s\n",
      "  1500K .......... .......... .......... .......... .......... 32% 14.9M 5s\n",
      "  1550K .......... .......... .......... .......... .......... 33% 16.9M 5s\n",
      "  1600K .......... .......... .......... .......... .......... 34% 47.9M 4s\n",
      "  1650K .......... .......... .......... .......... .......... 35% 49.6M 4s\n",
      "  1700K .......... .......... .......... .......... .......... 36% 39.9M 4s\n",
      "  1750K .......... .......... .......... .......... .......... 37% 44.0M 4s\n",
      "  1800K .......... .......... .......... .......... .......... 38% 53.0M 4s\n",
      "  1850K .......... .......... .......... .......... .......... 39% 51.6M 3s\n",
      "  1900K .......... .......... .......... .......... .......... 40% 50.4M 3s\n",
      "  1950K .......... .......... .......... .......... .......... 41% 44.5M 3s\n",
      "  2000K .......... .......... .......... .......... .......... 42% 49.1M 3s\n",
      "  2050K .......... .......... .......... .......... .......... 43% 46.1M 3s\n",
      "  2100K .......... .......... .......... .......... .......... 44% 62.7M 3s\n",
      "  2150K .......... .......... .......... .......... .......... 45% 18.3M 3s\n",
      "  2200K .......... .......... .......... .......... .......... 46% 53.3M 3s\n",
      "  2250K .......... .......... .......... .......... .......... 47% 51.5M 2s\n",
      "  2300K .......... .......... .......... .......... .......... 48% 2.85M 2s\n",
      "  2350K .......... .......... .......... .......... .......... 49% 45.4M 2s\n",
      "  2400K .......... .......... .......... .......... .......... 50% 2.25M 2s\n",
      "  2450K .......... .......... .......... .......... .......... 51% 58.8M 2s\n",
      "  2500K .......... .......... .......... .......... .......... 53% 54.7M 2s\n",
      "  2550K .......... .......... .......... .......... .......... 54% 3.41M 2s\n",
      "  2600K .......... .......... .......... .......... .......... 55% 21.3M 2s\n",
      "  2650K .......... .......... .......... .......... .......... 56% 24.1M 2s\n",
      "  2700K .......... .......... .......... .......... .......... 57% 28.8M 2s\n",
      "  2750K .......... .......... .......... .......... .......... 58% 31.0M 2s\n",
      "  2800K .......... .......... .......... .......... .......... 59% 64.4M 2s\n",
      "  2850K .......... .......... .......... .......... .......... 60% 1.04M 2s\n",
      "  2900K .......... .......... .......... .......... .......... 61% 25.0M 2s\n",
      "  2950K .......... .......... .......... .......... .......... 62% 15.6M 1s\n",
      "  3000K .......... .......... .......... .......... .......... 63% 27.4M 1s\n",
      "  3050K .......... .......... .......... .......... .......... 64% 51.7M 1s\n",
      "  3100K .......... .......... .......... .......... .......... 65% 2.75M 1s\n",
      "  3150K .......... .......... .......... .......... .......... 66% 40.6M 1s\n",
      "  3200K .......... .......... .......... .......... .......... 67% 49.8M 1s\n",
      "  3250K .......... .......... .......... .......... .......... 68% 49.7M 1s\n",
      "  3300K .......... .......... .......... .......... .......... 69% 45.1M 1s\n",
      "  3350K .......... .......... .......... .......... .......... 70% 42.1M 1s\n",
      "  3400K .......... .......... .......... .......... .......... 71% 54.4M 1s\n",
      "  3450K .......... .......... .......... .......... .......... 72% 55.7M 1s\n",
      "  3500K .......... .......... .......... .......... .......... 73% 59.1M 1s\n",
      "  3550K .......... .......... .......... .......... .......... 74% 49.1M 1s\n",
      "  3600K .......... .......... .......... .......... .......... 75% 61.0M 1s\n",
      "  3650K .......... .......... .......... .......... .......... 76% 64.5M 1s\n",
      "  3700K .......... .......... .......... .......... .......... 77% 57.3M 1s\n",
      "  3750K .......... .......... .......... .......... .......... 79% 55.9M 1s\n",
      "  3800K .......... .......... .......... .......... .......... 80% 65.0M 1s\n",
      "  3850K .......... .......... .......... .......... .......... 81% 63.8M 1s\n",
      "  3900K .......... .......... .......... .......... .......... 82% 56.6M 1s\n",
      "  3950K .......... .......... .......... .......... .......... 83% 59.2M 0s\n",
      "  4000K .......... .......... .......... .......... .......... 84%  167K 1s\n",
      "  4050K .......... .......... .......... .......... .......... 85% 21.2M 0s\n",
      "  4100K .......... .......... .......... .......... .......... 86% 16.2M 0s\n",
      "  4150K .......... .......... .......... .......... .......... 87% 62.9M 0s\n",
      "  4200K .......... .......... .......... .......... .......... 88% 68.7K 0s\n",
      "  4250K .......... .......... .......... .......... .......... 89% 11.9M 0s\n",
      "  4300K .......... .......... .......... .......... .......... 90% 29.2M 0s\n",
      "  4350K .......... .......... .......... .......... .......... 91% 28.4M 0s\n",
      "  4400K .......... .......... .......... .......... .......... 92% 31.7M 0s\n",
      "  4450K .......... .......... .......... .......... .......... 93% 26.1M 0s\n",
      "  4500K .......... .......... .......... .......... .......... 94% 45.5M 0s\n",
      "  4550K .......... .......... .......... .......... .......... 95% 48.3M 0s\n",
      "  4600K .......... .......... .......... .......... .......... 96% 53.9M 0s\n",
      "  4650K .......... .......... .......... .......... .......... 97% 35.7M 0s\n",
      "  4700K .......... .......... .......... .......... .......... 98% 50.1M 0s\n",
      "  4750K .......... .......... .......... .......... .......... 99% 48.5M 0s\n",
      "  4800K ........                                              100% 49.7M=3.5s\n",
      "\n",
      "2021-05-03 02:16:31 (1.35 MB/s) - ‘ml-100k.zip’ saved [4924029/4924029]\n",
      "\n"
     ]
    }
   ],
   "source": [
    "%%sh\n",
    "wget http://files.grouplens.org/datasets/movielens/ml-100k.zip\n",
    "unzip -o ml-100k.zip"
   ]
  },
  {
   "cell_type": "code",
   "execution_count": 3,
   "metadata": {},
   "outputs": [
    {
     "name": "stdout",
     "output_type": "stream",
     "text": [
      "/media/bilal/My Passport/Study/New/AWS/Practice/ml-100k\n",
      "124\t28\t3\t890287068\n",
      "458\t193\t4\t886396460\n",
      "767\t657\t4\t891462917\n",
      "867\t7\t5\t880078604\n",
      "911\t82\t2\t892840888\n"
     ]
    }
   ],
   "source": [
    "%cd ml-100k\n",
    "!shuf ua.base -o ua.base.shuffled\n",
    "!head -5 ua.base.shuffled"
   ]
  },
  {
   "cell_type": "markdown",
   "metadata": {},
   "source": [
    "### Build training set and test set"
   ]
  },
  {
   "cell_type": "code",
   "execution_count": 4,
   "metadata": {},
   "outputs": [],
   "source": [
    "num_users=943\n",
    "num_movies=1682\n",
    "num_features=num_users+num_movies\n",
    "\n",
    "num_ratings_train=90570\n",
    "num_ratings_test=9430"
   ]
  },
  {
   "cell_type": "code",
   "execution_count": 5,
   "metadata": {},
   "outputs": [],
   "source": [
    "import csv\n",
    "import numpy as np\n",
    "from scipy.sparse import lil_matrix\n",
    "\n",
    "def loadDataset(filename, lines, columns):\n",
    "    # Features are one-hot encoded in a sparse matrix\n",
    "    X = lil_matrix((lines, columns)).astype('float32')\n",
    "    # Labels are stored in a vector\n",
    "    Y = []\n",
    "    line=0\n",
    "    with open(filename,'r') as f:\n",
    "        samples=csv.reader(f,delimiter='\\t')\n",
    "        for userId,movieId,rating,timestamp in samples:\n",
    "            X[line,int(userId)-1] = 1\n",
    "            X[line,int(num_users)+int(movieId)-1] = 1\n",
    "            Y.append(int(rating))\n",
    "            line=line+1       \n",
    "    Y=np.array(Y).astype('float32')\n",
    "    return X,Y"
   ]
  },
  {
   "cell_type": "code",
   "execution_count": 6,
   "metadata": {},
   "outputs": [],
   "source": [
    "X_train, Y_train = loadDataset('ua.base.shuffled', num_ratings_train, num_features)\n",
    "X_test, Y_test = loadDataset('ua.test', num_ratings_test, num_features)"
   ]
  },
  {
   "cell_type": "code",
   "execution_count": 7,
   "metadata": {},
   "outputs": [
    {
     "name": "stdout",
     "output_type": "stream",
     "text": [
      "(90570, 2625)\n",
      "(90570,)\n",
      "(9430, 2625)\n",
      "(9430,)\n"
     ]
    }
   ],
   "source": [
    "print(X_train.shape)\n",
    "print(Y_train.shape)\n",
    "assert X_train.shape == (num_ratings_train, num_features)\n",
    "assert Y_train.shape == (num_ratings_train, )\n",
    "\n",
    "print(X_test.shape)\n",
    "print(Y_test.shape)\n",
    "assert X_test.shape  == (num_ratings_test, num_features)\n",
    "assert Y_test.shape  == (num_ratings_test, )"
   ]
  },
  {
   "cell_type": "code",
   "execution_count": 8,
   "metadata": {},
   "outputs": [],
   "source": [
    "import sagemaker\n",
    "\n",
    "bucket = sagemaker.Session().default_bucket()\n",
    "prefix = 'fm-movielens'\n",
    "\n",
    "train_key      = 'train.protobuf'\n",
    "train_prefix   = '{}/{}'.format(prefix, 'train')\n",
    "\n",
    "test_key       = 'test.protobuf'\n",
    "test_prefix    = '{}/{}'.format(prefix, 'test')\n",
    "\n",
    "output_prefix  = 's3://{}/{}/output'.format(bucket, prefix)"
   ]
  },
  {
   "cell_type": "code",
   "execution_count": 9,
   "metadata": {},
   "outputs": [
    {
     "name": "stdout",
     "output_type": "stream",
     "text": [
      "<_io.BytesIO object at 0x7fce42e64360>\n",
      "<_io.BytesIO object at 0x7fce42808040>\n",
      "s3://sagemaker-us-east-1-603012210694/fm-movielens/train/train.protobuf\n",
      "s3://sagemaker-us-east-1-603012210694/fm-movielens/test/test.protobuf\n",
      "Output: s3://sagemaker-us-east-1-603012210694/fm-movielens/output\n"
     ]
    }
   ],
   "source": [
    "import io, boto3\n",
    "import sagemaker.amazon.common as smac\n",
    "\n",
    "def writeDatasetToProtobuf(X, Y, bucket, prefix, key):\n",
    "    buf = io.BytesIO()\n",
    "    smac.write_spmatrix_to_sparse_tensor(buf, X, Y)\n",
    "    # use smac.write_numpy_to_dense_tensor(buf, feature, label) for numpy arrays\n",
    "    buf.seek(0)\n",
    "    print(buf)\n",
    "    obj = '{}/{}'.format(prefix, key)\n",
    "    boto3.resource('s3').Bucket(bucket).Object(obj).upload_fileobj(buf)\n",
    "    return 's3://{}/{}'.format(bucket,obj)\n",
    "    \n",
    "train_data = writeDatasetToProtobuf(X_train, Y_train, bucket, train_prefix, train_key)    \n",
    "test_data  = writeDatasetToProtobuf(X_test, Y_test, bucket, test_prefix, test_key)    \n",
    "  \n",
    "print(train_data)\n",
    "print(test_data)\n",
    "print('Output: {}'.format(output_prefix))"
   ]
  },
  {
   "cell_type": "code",
   "execution_count": 11,
   "metadata": {},
   "outputs": [
    {
     "name": "stdout",
     "output_type": "stream",
     "text": [
      "arn:aws:iam::603012210694:role/service-role/AmazonSageMaker-ExecutionRole-20210304T123661\n"
     ]
    }
   ],
   "source": [
    "# Extra step for local user only\n",
    "\n",
    "import boto3\n",
    "region = boto3.Session().region_name\n",
    "\n",
    "def resolve_sm_role():\n",
    "    client = boto3.client('iam', region_name=region)\n",
    "    response_roles = client.list_roles(\n",
    "        PathPrefix='/',\n",
    "        # Marker='string',\n",
    "        MaxItems=999\n",
    "    )\n",
    "    for role in response_roles['Roles']:\n",
    "        if role['RoleName'].startswith('AmazonSageMaker-ExecutionRole-'):\n",
    "            #print('Resolved SageMaker IAM Role to: ' + str(role))\n",
    "            return role['Arn']\n",
    "    raise Exception('Could not resolve what should be the SageMaker role to be used')\n",
    "\n",
    "role = resolve_sm_role()\n",
    "print(role)"
   ]
  },
  {
   "cell_type": "markdown",
   "metadata": {},
   "source": [
    "### Run training job"
   ]
  },
  {
   "cell_type": "code",
   "execution_count": 12,
   "metadata": {},
   "outputs": [],
   "source": [
    "import boto3\n",
    "from sagemaker import image_uris\n",
    "\n",
    "region = boto3.Session().region_name    \n",
    "container = image_uris.retrieve('pca', region)"
   ]
  },
  {
   "cell_type": "code",
   "execution_count": 13,
   "metadata": {},
   "outputs": [],
   "source": [
    "pca = sagemaker.estimator.Estimator(container,\n",
    "                                   role=role,#sagemaker.get_execution_role(),\n",
    "                                   instance_count=1, \n",
    "                                   instance_type='ml.c5.xlarge',\n",
    "                                   output_path=output_prefix\n",
    "                                   )"
   ]
  },
  {
   "cell_type": "markdown",
   "metadata": {},
   "source": [
    "We then set the hyperparameters. The required ones are the initial number of\n",
    "features, the number of principal components to compute, and the batch size:"
   ]
  },
  {
   "cell_type": "code",
   "execution_count": null,
   "metadata": {},
   "outputs": [],
   "source": [
    "pca.set_hyperparameters(feature_dim=num_features,\n",
    "                      num_components=64,\n",
    "                      mini_batch_size=1024)"
   ]
  },
  {
   "cell_type": "code",
   "execution_count": 14,
   "metadata": {},
   "outputs": [
    {
     "name": "stdout",
     "output_type": "stream",
     "text": [
      "2021-05-02 21:24:45 Starting - Starting the training job...\n",
      "2021-05-02 21:24:55 Starting - Launching requested ML instancesProfilerReport-1619990684: InProgress\n",
      "......\n",
      "2021-05-02 21:26:08 Starting - Preparing the instances for training......\n",
      "2021-05-02 21:27:28 Downloading - Downloading input data\n",
      "2021-05-02 21:27:28 Training - Downloading the training image.\u001b[34mDocker entrypoint called with argument(s): train\u001b[0m\n",
      "\u001b[34mRunning default environment configuration script\u001b[0m\n",
      "\u001b[34m[05/02/2021 21:27:39 INFO 139732926084928] Reading default configuration from /opt/amazon/lib/python3.7/site-packages/algorithm/resources/default-conf.json: {'algorithm_mode': 'regular', 'subtract_mean': 'true', 'extra_components': '-1', 'force_dense': 'true', 'epochs': 1, '_log_level': 'info', '_kvstore': 'dist_sync', '_num_kv_servers': 'auto', '_num_gpus': 'auto'}\u001b[0m\n",
      "\u001b[34m[05/02/2021 21:27:39 INFO 139732926084928] Merging with provided configuration from /opt/ml/input/config/hyperparameters.json: {'feature_dim': '2625', 'num_components': '64', 'mini_batch_size': '1024'}\u001b[0m\n",
      "\u001b[34m[05/02/2021 21:27:39 INFO 139732926084928] Final configuration: {'algorithm_mode': 'regular', 'subtract_mean': 'true', 'extra_components': '-1', 'force_dense': 'true', 'epochs': 1, '_log_level': 'info', '_kvstore': 'dist_sync', '_num_kv_servers': 'auto', '_num_gpus': 'auto', 'feature_dim': '2625', 'num_components': '64', 'mini_batch_size': '1024'}\u001b[0m\n",
      "\u001b[34m[05/02/2021 21:27:39 WARNING 139732926084928] Loggers have already been setup.\u001b[0m\n",
      "\u001b[34m[05/02/2021 21:27:41 INFO 139732926084928] Launching parameter server for role scheduler\u001b[0m\n",
      "\u001b[34m[05/02/2021 21:27:41 INFO 139732926084928] {'ENVROOT': '/opt/amazon', 'PROTOCOL_BUFFERS_PYTHON_IMPLEMENTATION': 'cpp', 'HOSTNAME': 'ip-10-0-121-171.ec2.internal', 'TRAINING_JOB_NAME': 'pca-2021-05-02-21-24-44-369', 'NVIDIA_REQUIRE_CUDA': 'cuda>=9.0', 'TRAINING_JOB_ARN': 'arn:aws:sagemaker:us-east-1:603012210694:training-job/pca-2021-05-02-21-24-44-369', 'AWS_CONTAINER_CREDENTIALS_RELATIVE_URI': '/v2/credentials/97727b70-5488-4f24-8643-5d7795e8c75f', 'CANONICAL_ENVROOT': '/opt/amazon', 'PYTHONUNBUFFERED': 'TRUE', 'NVIDIA_VISIBLE_DEVICES': 'void', 'LD_LIBRARY_PATH': '/opt/amazon/lib/python3.7/site-packages/cv2/../../../../lib:/usr/local/nvidia/lib64:/opt/amazon/lib', 'NVIDIA_DRIVER_CAPABILITIES': 'compute,utility', 'AWS_EXECUTION_ENV': 'AWS_ECS_EC2', 'PATH': '/opt/amazon/bin:/usr/local/nvidia/bin:/usr/local/sbin:/usr/local/bin:/usr/sbin:/usr/bin:/sbin:/bin:/opt/amazon/bin:/opt/amazon/bin', 'PWD': '/', 'LANG': 'en_US.utf8', 'AWS_REGION': 'us-east-1', 'HOME': '/root', 'SHLVL': '1', 'PROTOCOL_BUFFERS_PYTHON_IMPLEMENTATION_VERSION': '2', 'OMP_NUM_THREADS': '2', 'ECS_CONTAINER_METADATA_URI': 'http://169.254.170.2/v3/c046ec72-a48d-47f5-84d0-6e84bafc8ee6', 'DMLC_INTERFACE': 'eth0', 'ECS_CONTAINER_METADATA_URI_V4': 'http://169.254.170.2/v4/c046ec72-a48d-47f5-84d0-6e84bafc8ee6', 'SAGEMAKER_HTTP_PORT': '8080', 'SAGEMAKER_DATA_PATH': '/opt/ml'}\u001b[0m\n",
      "\u001b[34m[05/02/2021 21:27:41 INFO 139732926084928] envs={'ENVROOT': '/opt/amazon', 'PROTOCOL_BUFFERS_PYTHON_IMPLEMENTATION': 'cpp', 'HOSTNAME': 'ip-10-0-121-171.ec2.internal', 'TRAINING_JOB_NAME': 'pca-2021-05-02-21-24-44-369', 'NVIDIA_REQUIRE_CUDA': 'cuda>=9.0', 'TRAINING_JOB_ARN': 'arn:aws:sagemaker:us-east-1:603012210694:training-job/pca-2021-05-02-21-24-44-369', 'AWS_CONTAINER_CREDENTIALS_RELATIVE_URI': '/v2/credentials/97727b70-5488-4f24-8643-5d7795e8c75f', 'CANONICAL_ENVROOT': '/opt/amazon', 'PYTHONUNBUFFERED': 'TRUE', 'NVIDIA_VISIBLE_DEVICES': 'void', 'LD_LIBRARY_PATH': '/opt/amazon/lib/python3.7/site-packages/cv2/../../../../lib:/usr/local/nvidia/lib64:/opt/amazon/lib', 'NVIDIA_DRIVER_CAPABILITIES': 'compute,utility', 'AWS_EXECUTION_ENV': 'AWS_ECS_EC2', 'PATH': '/opt/amazon/bin:/usr/local/nvidia/bin:/usr/local/sbin:/usr/local/bin:/usr/sbin:/usr/bin:/sbin:/bin:/opt/amazon/bin:/opt/amazon/bin', 'PWD': '/', 'LANG': 'en_US.utf8', 'AWS_REGION': 'us-east-1', 'HOME': '/root', 'SHLVL': '1', 'PROTOCOL_BUFFERS_PYTHON_IMPLEMENTATION_VERSION': '2', 'OMP_NUM_THREADS': '2', 'ECS_CONTAINER_METADATA_URI': 'http://169.254.170.2/v3/c046ec72-a48d-47f5-84d0-6e84bafc8ee6', 'DMLC_INTERFACE': 'eth0', 'ECS_CONTAINER_METADATA_URI_V4': 'http://169.254.170.2/v4/c046ec72-a48d-47f5-84d0-6e84bafc8ee6', 'SAGEMAKER_HTTP_PORT': '8080', 'SAGEMAKER_DATA_PATH': '/opt/ml', 'DMLC_ROLE': 'scheduler', 'DMLC_PS_ROOT_URI': '10.0.121.171', 'DMLC_PS_ROOT_PORT': '9000', 'DMLC_NUM_SERVER': '1', 'DMLC_NUM_WORKER': '1'}\u001b[0m\n",
      "\u001b[34m[05/02/2021 21:27:41 INFO 139732926084928] Launching parameter server for role server\u001b[0m\n",
      "\u001b[34m[05/02/2021 21:27:41 INFO 139732926084928] {'ENVROOT': '/opt/amazon', 'PROTOCOL_BUFFERS_PYTHON_IMPLEMENTATION': 'cpp', 'HOSTNAME': 'ip-10-0-121-171.ec2.internal', 'TRAINING_JOB_NAME': 'pca-2021-05-02-21-24-44-369', 'NVIDIA_REQUIRE_CUDA': 'cuda>=9.0', 'TRAINING_JOB_ARN': 'arn:aws:sagemaker:us-east-1:603012210694:training-job/pca-2021-05-02-21-24-44-369', 'AWS_CONTAINER_CREDENTIALS_RELATIVE_URI': '/v2/credentials/97727b70-5488-4f24-8643-5d7795e8c75f', 'CANONICAL_ENVROOT': '/opt/amazon', 'PYTHONUNBUFFERED': 'TRUE', 'NVIDIA_VISIBLE_DEVICES': 'void', 'LD_LIBRARY_PATH': '/opt/amazon/lib/python3.7/site-packages/cv2/../../../../lib:/usr/local/nvidia/lib64:/opt/amazon/lib', 'NVIDIA_DRIVER_CAPABILITIES': 'compute,utility', 'AWS_EXECUTION_ENV': 'AWS_ECS_EC2', 'PATH': '/opt/amazon/bin:/usr/local/nvidia/bin:/usr/local/sbin:/usr/local/bin:/usr/sbin:/usr/bin:/sbin:/bin:/opt/amazon/bin:/opt/amazon/bin', 'PWD': '/', 'LANG': 'en_US.utf8', 'AWS_REGION': 'us-east-1', 'HOME': '/root', 'SHLVL': '1', 'PROTOCOL_BUFFERS_PYTHON_IMPLEMENTATION_VERSION': '2', 'OMP_NUM_THREADS': '2', 'ECS_CONTAINER_METADATA_URI': 'http://169.254.170.2/v3/c046ec72-a48d-47f5-84d0-6e84bafc8ee6', 'DMLC_INTERFACE': 'eth0', 'ECS_CONTAINER_METADATA_URI_V4': 'http://169.254.170.2/v4/c046ec72-a48d-47f5-84d0-6e84bafc8ee6', 'SAGEMAKER_HTTP_PORT': '8080', 'SAGEMAKER_DATA_PATH': '/opt/ml'}\u001b[0m\n",
      "\u001b[34m[05/02/2021 21:27:41 INFO 139732926084928] envs={'ENVROOT': '/opt/amazon', 'PROTOCOL_BUFFERS_PYTHON_IMPLEMENTATION': 'cpp', 'HOSTNAME': 'ip-10-0-121-171.ec2.internal', 'TRAINING_JOB_NAME': 'pca-2021-05-02-21-24-44-369', 'NVIDIA_REQUIRE_CUDA': 'cuda>=9.0', 'TRAINING_JOB_ARN': 'arn:aws:sagemaker:us-east-1:603012210694:training-job/pca-2021-05-02-21-24-44-369', 'AWS_CONTAINER_CREDENTIALS_RELATIVE_URI': '/v2/credentials/97727b70-5488-4f24-8643-5d7795e8c75f', 'CANONICAL_ENVROOT': '/opt/amazon', 'PYTHONUNBUFFERED': 'TRUE', 'NVIDIA_VISIBLE_DEVICES': 'void', 'LD_LIBRARY_PATH': '/opt/amazon/lib/python3.7/site-packages/cv2/../../../../lib:/usr/local/nvidia/lib64:/opt/amazon/lib', 'NVIDIA_DRIVER_CAPABILITIES': 'compute,utility', 'AWS_EXECUTION_ENV': 'AWS_ECS_EC2', 'PATH': '/opt/amazon/bin:/usr/local/nvidia/bin:/usr/local/sbin:/usr/local/bin:/usr/sbin:/usr/bin:/sbin:/bin:/opt/amazon/bin:/opt/amazon/bin', 'PWD': '/', 'LANG': 'en_US.utf8', 'AWS_REGION': 'us-east-1', 'HOME': '/root', 'SHLVL': '1', 'PROTOCOL_BUFFERS_PYTHON_IMPLEMENTATION_VERSION': '2', 'OMP_NUM_THREADS': '2', 'ECS_CONTAINER_METADATA_URI': 'http://169.254.170.2/v3/c046ec72-a48d-47f5-84d0-6e84bafc8ee6', 'DMLC_INTERFACE': 'eth0', 'ECS_CONTAINER_METADATA_URI_V4': 'http://169.254.170.2/v4/c046ec72-a48d-47f5-84d0-6e84bafc8ee6', 'SAGEMAKER_HTTP_PORT': '8080', 'SAGEMAKER_DATA_PATH': '/opt/ml', 'DMLC_ROLE': 'server', 'DMLC_PS_ROOT_URI': '10.0.121.171', 'DMLC_PS_ROOT_PORT': '9000', 'DMLC_NUM_SERVER': '1', 'DMLC_NUM_WORKER': '1'}\u001b[0m\n",
      "\u001b[34m[05/02/2021 21:27:41 INFO 139732926084928] Environment: {'ENVROOT': '/opt/amazon', 'PROTOCOL_BUFFERS_PYTHON_IMPLEMENTATION': 'cpp', 'HOSTNAME': 'ip-10-0-121-171.ec2.internal', 'TRAINING_JOB_NAME': 'pca-2021-05-02-21-24-44-369', 'NVIDIA_REQUIRE_CUDA': 'cuda>=9.0', 'TRAINING_JOB_ARN': 'arn:aws:sagemaker:us-east-1:603012210694:training-job/pca-2021-05-02-21-24-44-369', 'AWS_CONTAINER_CREDENTIALS_RELATIVE_URI': '/v2/credentials/97727b70-5488-4f24-8643-5d7795e8c75f', 'CANONICAL_ENVROOT': '/opt/amazon', 'PYTHONUNBUFFERED': 'TRUE', 'NVIDIA_VISIBLE_DEVICES': 'void', 'LD_LIBRARY_PATH': '/opt/amazon/lib/python3.7/site-packages/cv2/../../../../lib:/usr/local/nvidia/lib64:/opt/amazon/lib', 'NVIDIA_DRIVER_CAPABILITIES': 'compute,utility', 'AWS_EXECUTION_ENV': 'AWS_ECS_EC2', 'PATH': '/opt/amazon/bin:/usr/local/nvidia/bin:/usr/local/sbin:/usr/local/bin:/usr/sbin:/usr/bin:/sbin:/bin:/opt/amazon/bin:/opt/amazon/bin', 'PWD': '/', 'LANG': 'en_US.utf8', 'AWS_REGION': 'us-east-1', 'HOME': '/root', 'SHLVL': '1', 'PROTOCOL_BUFFERS_PYTHON_IMPLEMENTATION_VERSION': '2', 'OMP_NUM_THREADS': '2', 'ECS_CONTAINER_METADATA_URI': 'http://169.254.170.2/v3/c046ec72-a48d-47f5-84d0-6e84bafc8ee6', 'DMLC_INTERFACE': 'eth0', 'ECS_CONTAINER_METADATA_URI_V4': 'http://169.254.170.2/v4/c046ec72-a48d-47f5-84d0-6e84bafc8ee6', 'SAGEMAKER_HTTP_PORT': '8080', 'SAGEMAKER_DATA_PATH': '/opt/ml', 'DMLC_ROLE': 'worker', 'DMLC_PS_ROOT_URI': '10.0.121.171', 'DMLC_PS_ROOT_PORT': '9000', 'DMLC_NUM_SERVER': '1', 'DMLC_NUM_WORKER': '1'}\u001b[0m\n",
      "\u001b[34mProcess 33 is a shell:scheduler.\u001b[0m\n",
      "\u001b[34mProcess 42 is a shell:server.\u001b[0m\n",
      "\u001b[34mProcess 1 is a worker.\u001b[0m\n",
      "\u001b[34m[05/02/2021 21:27:41 INFO 139732926084928] Using default worker.\u001b[0m\n",
      "\u001b[34m[05/02/2021 21:27:41 INFO 139732926084928] Loaded iterator creator application/x-labeled-vector-protobuf for content type ('application/x-labeled-vector-protobuf', '1.0')\u001b[0m\n",
      "\u001b[34m[05/02/2021 21:27:41 INFO 139732926084928] Loaded iterator creator application/x-recordio-protobuf for content type ('application/x-recordio-protobuf', '1.0')\u001b[0m\n",
      "\u001b[34m[05/02/2021 21:27:41 INFO 139732926084928] Loaded iterator creator protobuf for content type ('protobuf', '1.0')\u001b[0m\n",
      "\u001b[34m[05/02/2021 21:27:41 INFO 139732926084928] Checkpoint loading and saving are disabled.\u001b[0m\n",
      "\u001b[34m[2021-05-02 21:27:41.405] [tensorio] [warning] TensorIO is already initialized; ignoring the initialization routine.\u001b[0m\n",
      "\u001b[34m[05/02/2021 21:27:41 INFO 139732926084928] Create Store: dist_sync\u001b[0m\n",
      "\u001b[34m[05/02/2021 21:27:42 INFO 139732926084928] nvidia-smi: took 0.035 seconds to run.\u001b[0m\n",
      "\u001b[34m[05/02/2021 21:27:42 INFO 139732926084928] nvidia-smi identified 0 GPUs.\u001b[0m\n",
      "\u001b[34m[05/02/2021 21:27:42 INFO 139732926084928] Number of GPUs being used: 0\u001b[0m\n",
      "\u001b[34m[05/02/2021 21:27:42 INFO 139732926084928] The default executor is <PCAExecutor on cpu(0)>.\u001b[0m\n",
      "\u001b[34m[05/02/2021 21:27:42 INFO 139732926084928] 2625 feature(s) found in 'data'.\u001b[0m\n",
      "\u001b[34m[05/02/2021 21:27:42 INFO 139732926084928] <PCAExecutor on cpu(0)> is assigned to batch slice from 0 to 1023.\u001b[0m\n",
      "\u001b[34m#metrics {\"StartTime\": 1619990861.3907146, \"EndTime\": 1619990862.0490162, \"Dimensions\": {\"Algorithm\": \"PCA\", \"Host\": \"algo-1\", \"Operation\": \"training\"}, \"Metrics\": {\"initialize.time\": {\"sum\": 631.199836730957, \"count\": 1, \"min\": 631.199836730957, \"max\": 631.199836730957}}}\n",
      "\u001b[0m\n",
      "\u001b[34m#metrics {\"StartTime\": 1619990862.0491722, \"EndTime\": 1619990862.049214, \"Dimensions\": {\"Algorithm\": \"PCA\", \"Host\": \"algo-1\", \"Operation\": \"training\", \"Meta\": \"init_train_data_iter\"}, \"Metrics\": {\"Total Records Seen\": {\"sum\": 0.0, \"count\": 1, \"min\": 0, \"max\": 0}, \"Total Batches Seen\": {\"sum\": 0.0, \"count\": 1, \"min\": 0, \"max\": 0}, \"Max Records Seen Between Resets\": {\"sum\": 0.0, \"count\": 1, \"min\": 0, \"max\": 0}, \"Max Batches Seen Between Resets\": {\"sum\": 0.0, \"count\": 1, \"min\": 0, \"max\": 0}, \"Reset Count\": {\"sum\": 0.0, \"count\": 1, \"min\": 0, \"max\": 0}, \"Number of Records Since Last Reset\": {\"sum\": 0.0, \"count\": 1, \"min\": 0, \"max\": 0}, \"Number of Batches Since Last Reset\": {\"sum\": 0.0, \"count\": 1, \"min\": 0, \"max\": 0}}}\n",
      "\u001b[0m\n",
      "\u001b[34m[2021-05-02 21:27:42.055] [tensorio] [info] epoch_stats={\"data_pipeline\": \"/opt/ml/input/data/train\", \"epoch\": 0, \"duration\": 664, \"num_examples\": 1, \"num_bytes\": 65536}\u001b[0m\n",
      "\u001b[34m[2021-05-02 21:27:48.303] [tensorio] [info] epoch_stats={\"data_pipeline\": \"/opt/ml/input/data/train\", \"epoch\": 1, \"duration\": 6224, \"num_examples\": 89, \"num_bytes\": 5796480}\u001b[0m\n",
      "\u001b[34m#metrics {\"StartTime\": 1619990862.0491252, \"EndTime\": 1619990868.3042743, \"Dimensions\": {\"Algorithm\": \"PCA\", \"Host\": \"algo-1\", \"Operation\": \"training\"}, \"Metrics\": {\"epochs\": {\"sum\": 1.0, \"count\": 1, \"min\": 1, \"max\": 1}, \"update.time\": {\"sum\": 6248.576879501343, \"count\": 1, \"min\": 6248.576879501343, \"max\": 6248.576879501343}}}\n",
      "\u001b[0m\n",
      "\u001b[34m[05/02/2021 21:27:48 INFO 139732926084928] #progress_metric: host=algo-1, completed 100.0 % of epochs\u001b[0m\n",
      "\u001b[34m#metrics {\"StartTime\": 1619990862.055659, \"EndTime\": 1619990868.3049695, \"Dimensions\": {\"Algorithm\": \"PCA\", \"Host\": \"algo-1\", \"Operation\": \"training\", \"epoch\": 0, \"Meta\": \"training_data_iter\"}, \"Metrics\": {\"Total Records Seen\": {\"sum\": 90570.0, \"count\": 1, \"min\": 90570, \"max\": 90570}, \"Total Batches Seen\": {\"sum\": 89.0, \"count\": 1, \"min\": 89, \"max\": 89}, \"Max Records Seen Between Resets\": {\"sum\": 90570.0, \"count\": 1, \"min\": 90570, \"max\": 90570}, \"Max Batches Seen Between Resets\": {\"sum\": 89.0, \"count\": 1, \"min\": 89, \"max\": 89}, \"Reset Count\": {\"sum\": 1.0, \"count\": 1, \"min\": 1, \"max\": 1}, \"Number of Records Since Last Reset\": {\"sum\": 90570.0, \"count\": 1, \"min\": 90570, \"max\": 90570}, \"Number of Batches Since Last Reset\": {\"sum\": 89.0, \"count\": 1, \"min\": 89, \"max\": 89}}}\n",
      "\u001b[0m\n",
      "\u001b[34m[05/02/2021 21:27:48 INFO 139732926084928] #throughput_metric: host=algo-1, train throughput=14492.331107690672 records/second\u001b[0m\n",
      "\u001b[34m#metrics {\"StartTime\": 1619990868.3044207, \"EndTime\": 1619990872.5270076, \"Dimensions\": {\"Algorithm\": \"PCA\", \"Host\": \"algo-1\", \"Operation\": \"training\"}, \"Metrics\": {\"finalize.time\": {\"sum\": 4221.457242965698, \"count\": 1, \"min\": 4221.457242965698, \"max\": 4221.457242965698}}}\n",
      "\u001b[0m\n",
      "\u001b[34m[05/02/2021 21:27:52 INFO 139732926084928] Number of GPUs being used: 0\u001b[0m\n",
      "\u001b[34m[2021-05-02 21:27:52.532] [tensorio] [info] epoch_stats={\"data_pipeline\": \"/opt/ml/input/data/test\", \"epoch\": 0, \"duration\": 11126, \"num_examples\": 1, \"num_bytes\": 65536}\u001b[0m\n",
      "\u001b[34m[05/02/2021 21:27:52 INFO 139732926084928] The default executor is <PCAModel on cpu(0)>.\u001b[0m\n",
      "\u001b[34m[05/02/2021 21:27:52 INFO 139732926084928] <PCAModel on cpu(0)> is assigned to batch slice from 0 to 1023.\u001b[0m\n"
     ]
    },
    {
     "name": "stdout",
     "output_type": "stream",
     "text": [
      "\n",
      "2021-05-02 21:28:05 Uploading - Uploading generated training model\n",
      "2021-05-02 21:28:05 Completed - Training job completed\n",
      "\u001b[34m[2021-05-02 21:27:52.870] [tensorio] [info] epoch_stats={\"data_pipeline\": \"/opt/ml/input/data/test\", \"epoch\": 1, \"duration\": 337, \"num_examples\": 10, \"num_bytes\": 603520}\u001b[0m\n",
      "\u001b[34m#metrics {\"StartTime\": 1619990872.5285003, \"EndTime\": 1619990872.8704154, \"Dimensions\": {\"Algorithm\": \"PCA\", \"Host\": \"algo-1\", \"Operation\": \"training\", \"Meta\": \"test_data_iter\"}, \"Metrics\": {\"Total Records Seen\": {\"sum\": 9430.0, \"count\": 1, \"min\": 9430, \"max\": 9430}, \"Total Batches Seen\": {\"sum\": 10.0, \"count\": 1, \"min\": 10, \"max\": 10}, \"Max Records Seen Between Resets\": {\"sum\": 9430.0, \"count\": 1, \"min\": 9430, \"max\": 9430}, \"Max Batches Seen Between Resets\": {\"sum\": 10.0, \"count\": 1, \"min\": 10, \"max\": 10}, \"Reset Count\": {\"sum\": 1.0, \"count\": 1, \"min\": 1, \"max\": 1}, \"Number of Records Since Last Reset\": {\"sum\": 9430.0, \"count\": 1, \"min\": 9430, \"max\": 9430}, \"Number of Batches Since Last Reset\": {\"sum\": 10.0, \"count\": 1, \"min\": 10, \"max\": 10}}}\n",
      "\u001b[0m\n",
      "\u001b[34m[05/02/2021 21:27:52 INFO 139732926084928] #test_score (algo-1) : ('pln', 0.9113882152616202)\u001b[0m\n",
      "\u001b[34m#metrics {\"StartTime\": 1619990872.5270782, \"EndTime\": 1619990872.872975, \"Dimensions\": {\"Algorithm\": \"PCA\", \"Host\": \"algo-1\", \"Operation\": \"training\"}, \"Metrics\": {\"setuptime\": {\"sum\": 1543.8029766082764, \"count\": 1, \"min\": 1543.8029766082764, \"max\": 1543.8029766082764}, \"totaltime\": {\"sum\": 13198.315858840942, \"count\": 1, \"min\": 13198.315858840942, \"max\": 13198.315858840942}}}\n",
      "\u001b[0m\n",
      "Training seconds: 54\n",
      "Billable seconds: 54\n"
     ]
    }
   ],
   "source": [
    "pca.fit({'train': train_data, 'test': test_data})"
   ]
  },
  {
   "cell_type": "markdown",
   "metadata": {},
   "source": [
    "### Deploying model"
   ]
  },
  {
   "cell_type": "code",
   "execution_count": 15,
   "metadata": {},
   "outputs": [
    {
     "name": "stdout",
     "output_type": "stream",
     "text": [
      "-------------------!"
     ]
    }
   ],
   "source": [
    "endpoint_name = 'pca-movielens-100k'\n",
    "pca_predictor = pca.deploy(endpoint_name=endpoint_name,\n",
    "                         instance_type='ml.t2.medium', initial_instance_count=1)"
   ]
  },
  {
   "cell_type": "code",
   "execution_count": 16,
   "metadata": {},
   "outputs": [],
   "source": [
    "import json\n",
    "\n",
    "from sagemaker.deserializers import JSONDeserializer\n",
    "from sagemaker.serializers import JSONSerializer\n",
    "\n",
    "class PCASerializer(JSONSerializer):\n",
    "    def serialize(self, data):\n",
    "       js = {'instances': []}\n",
    "       for row in data:\n",
    "              js['instances'].append({'features': row.tolist()})\n",
    "       return json.dumps(js)\n",
    "\n",
    "pca_predictor.serializer = PCASerializer()\n",
    "pca_predictor.deserializer = JSONDeserializer()"
   ]
  },
  {
   "cell_type": "markdown",
   "metadata": {},
   "source": [
    "### Running Prediction"
   ]
  },
  {
   "cell_type": "code",
   "execution_count": 17,
   "metadata": {},
   "outputs": [
    {
     "name": "stdout",
     "output_type": "stream",
     "text": [
      "{'projections': [{'projection': [-0.008711372502148151, 0.0019895541481673717, 0.002355781616643071, 0.012406938709318638, -0.0069608548656105995, -0.009556426666676998, 0.0070395139046013355, 0.0014258784940466285, -0.014954577200114727, 0.006284230388700962, 0.001228088280186057, 0.0033577263820916414, -0.005306658800691366, 0.003560103476047516, -0.005722153931856155, 0.0018947564531117678, -0.018347417935729027, 0.005859722383320332, -0.0051197693683207035, 0.005412592086941004, 0.002981008030474186, -0.0070180222392082214, -0.004825756885111332, 0.0006951577961444855, -0.002631745534017682, 0.0026822059880942106, -0.00016326206969097257, -0.002161189913749695, 0.007496879436075687, -0.010350828990340233, 0.009461312554776669, -0.007941177114844322, 0.008525246754288673, -0.005494360346347094, 0.002860172651708126, -0.00023960997350513935, 0.00014624283357989043, -0.005788157694041729, 0.010191304609179497, -0.0024550503585487604, 0.005202359054237604, -0.0032088235020637512, -0.0009270607260987163, -0.002143347403034568, 0.004736622329801321, -0.008692862465977669, 0.0038926110137254, -0.002227545715868473, -0.0010053303558379412, -0.005874359514564276, 0.0006837833789177239, -0.006761424709111452, 0.0008008057484403253, -0.0017689920496195555, 0.007140465080738068, -0.0058555398136377335, 0.004077749792486429, -0.0044308737851679325, -0.0034359279088675976, 0.005937075708061457, -0.00604742718860507, 0.007952660322189331, 0.00624182540923357, -0.007614493370056152]}]}\n"
     ]
    }
   ],
   "source": [
    "result = pca_predictor.predict(X_test[0].toarray())\n",
    "print(result)"
   ]
  },
  {
   "cell_type": "markdown",
   "metadata": {},
   "source": [
    "### Deleting endpoint"
   ]
  },
  {
   "cell_type": "code",
   "execution_count": 18,
   "metadata": {},
   "outputs": [],
   "source": [
    "pca_predictor.delete_endpoint()"
   ]
  },
  {
   "cell_type": "code",
   "execution_count": null,
   "metadata": {},
   "outputs": [],
   "source": []
  }
 ],
 "metadata": {
  "kernelspec": {
   "display_name": "SAGEMAKER",
   "language": "python",
   "name": "sagemaker"
  },
  "language_info": {
   "codemirror_mode": {
    "name": "ipython",
    "version": 3
   },
   "file_extension": ".py",
   "mimetype": "text/x-python",
   "name": "python",
   "nbconvert_exporter": "python",
   "pygments_lexer": "ipython3",
   "version": "3.8.5"
  }
 },
 "nbformat": 4,
 "nbformat_minor": 4
}
