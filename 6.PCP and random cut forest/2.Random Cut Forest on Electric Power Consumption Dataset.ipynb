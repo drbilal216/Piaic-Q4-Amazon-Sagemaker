{
 "cells": [
  {
   "cell_type": "markdown",
   "metadata": {},
   "source": [
    "## Detecting anomalies with Random Cut Forest\n",
    "Random Cut Forest (RCF) is an unsupervised learning algorithm for anomaly detection\n",
    "( https://proceedings.mlr.press/v48/guha16.pdf ). We're going to apply\n",
    "it to a subset of the household electric power consumption dataset ( https://archive.\n",
    "ics.uci.edu/ml/ ), available in the GitHub repository for this book. The data has been\n",
    "aggregated hourly over a period of little less than a year (just under 8,000 values):"
   ]
  },
  {
   "cell_type": "code",
   "execution_count": 80,
   "metadata": {},
   "outputs": [
    {
     "data": {
      "text/html": [
       "<div>\n",
       "<style scoped>\n",
       "    .dataframe tbody tr th:only-of-type {\n",
       "        vertical-align: middle;\n",
       "    }\n",
       "\n",
       "    .dataframe tbody tr th {\n",
       "        vertical-align: top;\n",
       "    }\n",
       "\n",
       "    .dataframe thead th {\n",
       "        text-align: right;\n",
       "    }\n",
       "</style>\n",
       "<table border=\"1\" class=\"dataframe\">\n",
       "  <thead>\n",
       "    <tr style=\"text-align: right;\">\n",
       "      <th></th>\n",
       "      <th>2014-01-01 01:00:00</th>\n",
       "      <th>38.34991708126038</th>\n",
       "      <th>client_12</th>\n",
       "    </tr>\n",
       "  </thead>\n",
       "  <tbody>\n",
       "    <tr>\n",
       "      <th>0</th>\n",
       "      <td>2014-01-01 02:00:00</td>\n",
       "      <td>33.582090</td>\n",
       "      <td>client_12</td>\n",
       "    </tr>\n",
       "    <tr>\n",
       "      <th>1</th>\n",
       "      <td>2014-01-01 03:00:00</td>\n",
       "      <td>34.411277</td>\n",
       "      <td>client_12</td>\n",
       "    </tr>\n",
       "    <tr>\n",
       "      <th>2</th>\n",
       "      <td>2014-01-01 04:00:00</td>\n",
       "      <td>39.800995</td>\n",
       "      <td>client_12</td>\n",
       "    </tr>\n",
       "  </tbody>\n",
       "</table>\n",
       "</div>"
      ],
      "text/plain": [
       "   2014-01-01 01:00:00  38.34991708126038  client_12\n",
       "0  2014-01-01 02:00:00          33.582090  client_12\n",
       "1  2014-01-01 03:00:00          34.411277  client_12\n",
       "2  2014-01-01 04:00:00          39.800995  client_12"
      ]
     },
     "metadata": {},
     "output_type": "display_data"
    }
   ],
   "source": [
    "# reading data from URL\n",
    "import pandas as pd\n",
    "url = \"https://github.com/PacktPublishing/Learn-Amazon-SageMaker/blob/master/sdkv2/ch4/item-demand-time.csv?raw=true\"\n",
    "# ?raw=true (puted this on the end of the link)\n",
    "data = pd.read_csv(url)\n",
    "display(data.head(3))\n",
    "\n",
    "# saving file in current path\n",
    "data.to_csv('item-demand-time.csv')"
   ]
  },
  {
   "cell_type": "code",
   "execution_count": 81,
   "metadata": {},
   "outputs": [
    {
     "data": {
      "text/html": [
       "<div>\n",
       "<style scoped>\n",
       "    .dataframe tbody tr th:only-of-type {\n",
       "        vertical-align: middle;\n",
       "    }\n",
       "\n",
       "    .dataframe tbody tr th {\n",
       "        vertical-align: top;\n",
       "    }\n",
       "\n",
       "    .dataframe thead th {\n",
       "        text-align: right;\n",
       "    }\n",
       "</style>\n",
       "<table border=\"1\" class=\"dataframe\">\n",
       "  <thead>\n",
       "    <tr style=\"text-align: right;\">\n",
       "      <th></th>\n",
       "      <th>timestamp</th>\n",
       "      <th>value</th>\n",
       "      <th>item</th>\n",
       "    </tr>\n",
       "  </thead>\n",
       "  <tbody>\n",
       "    <tr>\n",
       "      <th>0</th>\n",
       "      <td>2014-01-01 02:00:00</td>\n",
       "      <td>33.5820895522388</td>\n",
       "      <td>client_12</td>\n",
       "    </tr>\n",
       "    <tr>\n",
       "      <th>1</th>\n",
       "      <td>2014-01-01 03:00:00</td>\n",
       "      <td>34.41127694859037</td>\n",
       "      <td>client_12</td>\n",
       "    </tr>\n",
       "    <tr>\n",
       "      <th>2</th>\n",
       "      <td>2014-01-01 04:00:00</td>\n",
       "      <td>39.800995024875625</td>\n",
       "      <td>client_12</td>\n",
       "    </tr>\n",
       "  </tbody>\n",
       "</table>\n",
       "</div>"
      ],
      "text/plain": [
       "             timestamp               value       item\n",
       "0  2014-01-01 02:00:00    33.5820895522388  client_12\n",
       "1  2014-01-01 03:00:00   34.41127694859037  client_12\n",
       "2  2014-01-01 04:00:00  39.800995024875625  client_12"
      ]
     },
     "execution_count": 81,
     "metadata": {},
     "output_type": "execute_result"
    }
   ],
   "source": [
    "import pandas as pd\n",
    "\n",
    "df = pd.read_csv('item-demand-time.csv', dtype = object, names=['timestamp','value','item'],skiprows=1)\n",
    "df.head(3)"
   ]
  },
  {
   "cell_type": "code",
   "execution_count": 82,
   "metadata": {},
   "outputs": [
    {
     "data": {
      "text/plain": [
       "array(['client_12', 'client_10', 'client_111'], dtype=object)"
      ]
     },
     "execution_count": 82,
     "metadata": {},
     "output_type": "execute_result"
    }
   ],
   "source": [
    "df.item.unique()"
   ]
  },
  {
   "cell_type": "code",
   "execution_count": 84,
   "metadata": {},
   "outputs": [],
   "source": [
    "# giving me error for some unkonwn reason\n",
    "#%matplotlib inline\n",
    "\n",
    "#import matplotlib\n",
    "#import matplotlib.pyplot as plt\n",
    "\n",
    "#df.value=pd.to_numeric(df.value)\n",
    "#df_plot = df.pivot(index='timestamp', columns='item', values='value')\n",
    "#df_plot.plot(figsize=(40,10))"
   ]
  },
  {
   "cell_type": "markdown",
   "metadata": {},
   "source": [
    "The plot is shown in the following diagram. We see three time series corresponding\n",
    "to three different clients:"
   ]
  },
  {
   "cell_type": "markdown",
   "metadata": {},
   "source": [
    "There are two issues with this dataset. First, it contains several time series: RCF\n",
    "can only train a model on a single series. Second, RCF requires integer values.\n",
    "Let's solve both problem with pandas : we only keep the \"client_12\" time\n",
    "series, we multiply its values by 100, and cast them to the integer type:"
   ]
  },
  {
   "cell_type": "code",
   "execution_count": 85,
   "metadata": {},
   "outputs": [],
   "source": [
    "df = df[df['item']=='client_12']\n",
    "df = df.drop(['item', 'timestamp'], axis=1)"
   ]
  },
  {
   "cell_type": "code",
   "execution_count": 86,
   "metadata": {},
   "outputs": [
    {
     "name": "stdout",
     "output_type": "stream",
     "text": [
      "\n",
      "The following diagram shows the first lines of the transformed dataset:\n"
     ]
    },
    {
     "data": {
      "text/html": [
       "<div>\n",
       "<style scoped>\n",
       "    .dataframe tbody tr th:only-of-type {\n",
       "        vertical-align: middle;\n",
       "    }\n",
       "\n",
       "    .dataframe tbody tr th {\n",
       "        vertical-align: top;\n",
       "    }\n",
       "\n",
       "    .dataframe thead th {\n",
       "        text-align: right;\n",
       "    }\n",
       "</style>\n",
       "<table border=\"1\" class=\"dataframe\">\n",
       "  <thead>\n",
       "    <tr style=\"text-align: right;\">\n",
       "      <th></th>\n",
       "      <th>value</th>\n",
       "    </tr>\n",
       "  </thead>\n",
       "  <tbody>\n",
       "    <tr>\n",
       "      <th>0</th>\n",
       "      <td>3358</td>\n",
       "    </tr>\n",
       "    <tr>\n",
       "      <th>1</th>\n",
       "      <td>3441</td>\n",
       "    </tr>\n",
       "    <tr>\n",
       "      <th>2</th>\n",
       "      <td>3980</td>\n",
       "    </tr>\n",
       "  </tbody>\n",
       "</table>\n",
       "</div>"
      ],
      "text/plain": [
       "   value\n",
       "0   3358\n",
       "1   3441\n",
       "2   3980"
      ]
     },
     "execution_count": 86,
     "metadata": {},
     "output_type": "execute_result"
    }
   ],
   "source": [
    "df.value = df.value.astype('float32')\n",
    "df.value*=100\n",
    "df.value = df.value.astype('int32')\n",
    "print(\"\\nThe following diagram shows the first lines of the transformed dataset:\")\n",
    "df.head(3)"
   ]
  },
  {
   "cell_type": "code",
   "execution_count": 87,
   "metadata": {},
   "outputs": [],
   "source": [
    "#df.plot(figsize=(40,10))"
   ]
  },
  {
   "cell_type": "code",
   "execution_count": 88,
   "metadata": {},
   "outputs": [],
   "source": [
    "# saving it to upload it to s3 later\n",
    "df.to_csv('electricity.csv', index=False, header=False)"
   ]
  },
  {
   "cell_type": "code",
   "execution_count": 91,
   "metadata": {},
   "outputs": [
    {
     "name": "stdout",
     "output_type": "stream",
     "text": [
      "arn:aws:iam::603012210694:role/service-role/AmazonSageMaker-ExecutionRole-20210304T123661\n"
     ]
    }
   ],
   "source": [
    "################## Extra step for local user only\n",
    "\n",
    "import boto3\n",
    "region = boto3.Session().region_name\n",
    "\n",
    "def resolve_sm_role():\n",
    "    client = boto3.client('iam', region_name=region)\n",
    "    response_roles = client.list_roles(\n",
    "        PathPrefix='/',\n",
    "        # Marker='string',\n",
    "        MaxItems=999\n",
    "    )\n",
    "    for role in response_roles['Roles']:\n",
    "        if role['RoleName'].startswith('AmazonSageMaker-ExecutionRole-'):\n",
    "            #print('Resolved SageMaker IAM Role to: ' + str(role))\n",
    "            return role['Arn']\n",
    "    raise Exception('Could not resolve what should be the SageMaker role to be used')\n",
    "\n",
    "role = resolve_sm_role()\n",
    "print(role)\n",
    "\n",
    "#################"
   ]
  },
  {
   "cell_type": "markdown",
   "metadata": {},
   "source": [
    "Then, we define the training channel. There are a couple of quirks that we haven't\n",
    "met before. SageMaker generally doesn't have many of these, and reading the\n",
    "documentation goes a long way in pinpointing them ( https://docs.aws.\n",
    "amazon.com/sagemaker/latest/dg/randomcutforest.html ).\n",
    "First, the content type must state that data is not labeled. The reason for this is that\n",
    "RCF can accept an optional test channel where anomalies are labeled ( label_\n",
    "size=1 ). Even though the training channel never has labels, we still need to tell\n",
    "RCF. Second, the only distribution policy supported in RCF is ShardedByS3Key .\n",
    "This policy splits the dataset across the different instances in the training cluster,\n",
    "instead of sending them a full copy. We won't run distributed training here, but we\n",
    "need to set that policy nonetheless"
   ]
  },
  {
   "cell_type": "code",
   "execution_count": 92,
   "metadata": {},
   "outputs": [
    {
     "name": "stdout",
     "output_type": "stream",
     "text": [
      "2.26.0\n"
     ]
    }
   ],
   "source": [
    "import boto3\n",
    "import sagemaker\n",
    "\n",
    "print(sagemaker.__version__)\n",
    "\n",
    "sess = sagemaker.Session()\n",
    "#role = sagemaker.get_execution_role()\n",
    "bucket = sess.default_bucket()\n",
    "prefix = 'electricity'\n",
    "\n",
    "training_data_path = sess.upload_data(path='electricity.csv', key_prefix=prefix + '/input/training')\n",
    "training_data_channel = sagemaker.TrainingInput(s3_data=training_data_path, \n",
    "                                           content_type='text/csv;label_size=0',\n",
    "                                           distribution='ShardedByS3Key')\n",
    "rcf_data = {'train': training_data_channel}"
   ]
  },
  {
   "cell_type": "code",
   "execution_count": 93,
   "metadata": {},
   "outputs": [
    {
     "name": "stdout",
     "output_type": "stream",
     "text": [
      "s3://sagemaker-us-east-1-603012210694/electricity/input/training/electricity.csv\n"
     ]
    }
   ],
   "source": [
    "print(training_data_path)"
   ]
  },
  {
   "cell_type": "code",
   "execution_count": 94,
   "metadata": {},
   "outputs": [],
   "source": [
    "import boto3\n",
    "from sagemaker.estimator import Estimator\n",
    "from sagemaker import image_uris\n",
    "\n",
    "region = boto3.Session().region_name    \n",
    "container = image_uris.retrieve('randomcutforest', region)\n",
    "\n",
    "rcf_estimator = Estimator(container,\n",
    "                role=role,\n",
    "                instance_count=1,\n",
    "                instance_type='ml.m5.large',\n",
    "                output_path='s3://{}/{}/output'.format(bucket, prefix))\n",
    "\n",
    "rcf_estimator.set_hyperparameters(feature_dim=1)"
   ]
  },
  {
   "cell_type": "code",
   "execution_count": 95,
   "metadata": {},
   "outputs": [
    {
     "name": "stdout",
     "output_type": "stream",
     "text": [
      "2021-05-02 22:26:42 Starting - Starting the training job...\n",
      "2021-05-02 22:27:08 Starting - Launching requested ML instancesProfilerReport-1619994402: InProgress\n",
      "......\n",
      "2021-05-02 22:28:14 Starting - Preparing the instances for training......\n",
      "2021-05-02 22:29:28 Downloading - Downloading input data...\n",
      "2021-05-02 22:29:55 Training - Downloading the training image..\u001b[34mDocker entrypoint called with argument(s): train\u001b[0m\n",
      "\u001b[34mRunning default environment configuration script\u001b[0m\n",
      "\u001b[34m[05/02/2021 22:30:15 INFO 140128021849920] Reading default configuration from /opt/amazon/lib/python3.7/site-packages/algorithm/resources/default-conf.json: {'num_samples_per_tree': 256, 'num_trees': 100, 'force_dense': 'true', 'eval_metrics': ['accuracy', 'precision_recall_fscore'], 'epochs': 1, 'mini_batch_size': 1000, '_log_level': 'info', '_kvstore': 'dist_async', '_num_kv_servers': 'auto', '_num_gpus': 'auto', '_tuning_objective_metric': '', '_ftp_port': 8999}\u001b[0m\n",
      "\u001b[34m[05/02/2021 22:30:15 INFO 140128021849920] Merging with provided configuration from /opt/ml/input/config/hyperparameters.json: {'feature_dim': '1'}\u001b[0m\n",
      "\u001b[34m[05/02/2021 22:30:15 INFO 140128021849920] Final configuration: {'num_samples_per_tree': 256, 'num_trees': 100, 'force_dense': 'true', 'eval_metrics': ['accuracy', 'precision_recall_fscore'], 'epochs': 1, 'mini_batch_size': 1000, '_log_level': 'info', '_kvstore': 'dist_async', '_num_kv_servers': 'auto', '_num_gpus': 'auto', '_tuning_objective_metric': '', '_ftp_port': 8999, 'feature_dim': '1'}\u001b[0m\n",
      "\u001b[34m[05/02/2021 22:30:15 WARNING 140128021849920] Loggers have already been setup.\u001b[0m\n",
      "\u001b[34m[05/02/2021 22:30:15 INFO 140128021849920] Launching parameter server for role scheduler\u001b[0m\n",
      "\u001b[34m[05/02/2021 22:30:15 INFO 140128021849920] {'ENVROOT': '/opt/amazon', 'PROTOCOL_BUFFERS_PYTHON_IMPLEMENTATION': 'cpp', 'HOSTNAME': 'ip-10-0-250-9.ec2.internal', 'TRAINING_JOB_NAME': 'randomcutforest-2021-05-02-22-26-42-056', 'NVIDIA_REQUIRE_CUDA': 'cuda>=9.0', 'TRAINING_JOB_ARN': 'arn:aws:sagemaker:us-east-1:603012210694:training-job/randomcutforest-2021-05-02-22-26-42-056', 'AWS_CONTAINER_CREDENTIALS_RELATIVE_URI': '/v2/credentials/96ef4ebb-fc6b-4d61-93cf-11ceda57c535', 'CANONICAL_ENVROOT': '/opt/amazon', 'PYTHONUNBUFFERED': 'TRUE', 'NVIDIA_VISIBLE_DEVICES': 'void', 'LD_LIBRARY_PATH': '/opt/amazon/lib/python3.7/site-packages/cv2/../../../../lib:/usr/local/nvidia/lib64:/opt/amazon/lib', 'MXNET_KVSTORE_BIGARRAY_BOUND': '400000000', 'NVIDIA_DRIVER_CAPABILITIES': 'compute,utility', 'AWS_EXECUTION_ENV': 'AWS_ECS_EC2', 'PATH': '/opt/amazon/bin:/usr/local/nvidia/bin:/usr/local/sbin:/usr/local/bin:/usr/sbin:/usr/bin:/sbin:/bin:/opt/amazon/bin:/opt/amazon/bin', 'PWD': '/', 'LANG': 'en_US.utf8', 'SAGEMAKER_METRICS_DIRECTORY': '/opt/ml/output/metrics/sagemaker', 'AWS_REGION': 'us-east-1', 'HOME': '/root', 'SHLVL': '1', 'PROTOCOL_BUFFERS_PYTHON_IMPLEMENTATION_VERSION': '2', 'OMP_NUM_THREADS': '1', 'ECS_CONTAINER_METADATA_URI': 'http://169.254.170.2/v3/08b31762-66f9-4d33-a0bd-ac69e8b4e737', 'DMLC_INTERFACE': 'eth0', 'ECS_CONTAINER_METADATA_URI_V4': 'http://169.254.170.2/v4/08b31762-66f9-4d33-a0bd-ac69e8b4e737', 'SAGEMAKER_HTTP_PORT': '8080', 'SAGEMAKER_DATA_PATH': '/opt/ml', 'KMP_DUPLICATE_LIB_OK': 'True', 'KMP_INIT_AT_FORK': 'FALSE'}\u001b[0m\n",
      "\u001b[34m[05/02/2021 22:30:15 INFO 140128021849920] envs={'ENVROOT': '/opt/amazon', 'PROTOCOL_BUFFERS_PYTHON_IMPLEMENTATION': 'cpp', 'HOSTNAME': 'ip-10-0-250-9.ec2.internal', 'TRAINING_JOB_NAME': 'randomcutforest-2021-05-02-22-26-42-056', 'NVIDIA_REQUIRE_CUDA': 'cuda>=9.0', 'TRAINING_JOB_ARN': 'arn:aws:sagemaker:us-east-1:603012210694:training-job/randomcutforest-2021-05-02-22-26-42-056', 'AWS_CONTAINER_CREDENTIALS_RELATIVE_URI': '/v2/credentials/96ef4ebb-fc6b-4d61-93cf-11ceda57c535', 'CANONICAL_ENVROOT': '/opt/amazon', 'PYTHONUNBUFFERED': 'TRUE', 'NVIDIA_VISIBLE_DEVICES': 'void', 'LD_LIBRARY_PATH': '/opt/amazon/lib/python3.7/site-packages/cv2/../../../../lib:/usr/local/nvidia/lib64:/opt/amazon/lib', 'MXNET_KVSTORE_BIGARRAY_BOUND': '400000000', 'NVIDIA_DRIVER_CAPABILITIES': 'compute,utility', 'AWS_EXECUTION_ENV': 'AWS_ECS_EC2', 'PATH': '/opt/amazon/bin:/usr/local/nvidia/bin:/usr/local/sbin:/usr/local/bin:/usr/sbin:/usr/bin:/sbin:/bin:/opt/amazon/bin:/opt/amazon/bin', 'PWD': '/', 'LANG': 'en_US.utf8', 'SAGEMAKER_METRICS_DIRECTORY': '/opt/ml/output/metrics/sagemaker', 'AWS_REGION': 'us-east-1', 'HOME': '/root', 'SHLVL': '1', 'PROTOCOL_BUFFERS_PYTHON_IMPLEMENTATION_VERSION': '2', 'OMP_NUM_THREADS': '1', 'ECS_CONTAINER_METADATA_URI': 'http://169.254.170.2/v3/08b31762-66f9-4d33-a0bd-ac69e8b4e737', 'DMLC_INTERFACE': 'eth0', 'ECS_CONTAINER_METADATA_URI_V4': 'http://169.254.170.2/v4/08b31762-66f9-4d33-a0bd-ac69e8b4e737', 'SAGEMAKER_HTTP_PORT': '8080', 'SAGEMAKER_DATA_PATH': '/opt/ml', 'KMP_DUPLICATE_LIB_OK': 'True', 'KMP_INIT_AT_FORK': 'FALSE', 'DMLC_ROLE': 'scheduler', 'DMLC_PS_ROOT_URI': '10.0.250.9', 'DMLC_PS_ROOT_PORT': '9000', 'DMLC_NUM_SERVER': '1', 'DMLC_NUM_WORKER': '1'}\u001b[0m\n",
      "\u001b[34m[05/02/2021 22:30:15 INFO 140128021849920] Launching parameter server for role server\u001b[0m\n",
      "\u001b[34m[05/02/2021 22:30:15 INFO 140128021849920] {'ENVROOT': '/opt/amazon', 'PROTOCOL_BUFFERS_PYTHON_IMPLEMENTATION': 'cpp', 'HOSTNAME': 'ip-10-0-250-9.ec2.internal', 'TRAINING_JOB_NAME': 'randomcutforest-2021-05-02-22-26-42-056', 'NVIDIA_REQUIRE_CUDA': 'cuda>=9.0', 'TRAINING_JOB_ARN': 'arn:aws:sagemaker:us-east-1:603012210694:training-job/randomcutforest-2021-05-02-22-26-42-056', 'AWS_CONTAINER_CREDENTIALS_RELATIVE_URI': '/v2/credentials/96ef4ebb-fc6b-4d61-93cf-11ceda57c535', 'CANONICAL_ENVROOT': '/opt/amazon', 'PYTHONUNBUFFERED': 'TRUE', 'NVIDIA_VISIBLE_DEVICES': 'void', 'LD_LIBRARY_PATH': '/opt/amazon/lib/python3.7/site-packages/cv2/../../../../lib:/usr/local/nvidia/lib64:/opt/amazon/lib', 'MXNET_KVSTORE_BIGARRAY_BOUND': '400000000', 'NVIDIA_DRIVER_CAPABILITIES': 'compute,utility', 'AWS_EXECUTION_ENV': 'AWS_ECS_EC2', 'PATH': '/opt/amazon/bin:/usr/local/nvidia/bin:/usr/local/sbin:/usr/local/bin:/usr/sbin:/usr/bin:/sbin:/bin:/opt/amazon/bin:/opt/amazon/bin', 'PWD': '/', 'LANG': 'en_US.utf8', 'SAGEMAKER_METRICS_DIRECTORY': '/opt/ml/output/metrics/sagemaker', 'AWS_REGION': 'us-east-1', 'HOME': '/root', 'SHLVL': '1', 'PROTOCOL_BUFFERS_PYTHON_IMPLEMENTATION_VERSION': '2', 'OMP_NUM_THREADS': '1', 'ECS_CONTAINER_METADATA_URI': 'http://169.254.170.2/v3/08b31762-66f9-4d33-a0bd-ac69e8b4e737', 'DMLC_INTERFACE': 'eth0', 'ECS_CONTAINER_METADATA_URI_V4': 'http://169.254.170.2/v4/08b31762-66f9-4d33-a0bd-ac69e8b4e737', 'SAGEMAKER_HTTP_PORT': '8080', 'SAGEMAKER_DATA_PATH': '/opt/ml', 'KMP_DUPLICATE_LIB_OK': 'True', 'KMP_INIT_AT_FORK': 'FALSE'}\u001b[0m\n",
      "\u001b[34m[05/02/2021 22:30:15 INFO 140128021849920] envs={'ENVROOT': '/opt/amazon', 'PROTOCOL_BUFFERS_PYTHON_IMPLEMENTATION': 'cpp', 'HOSTNAME': 'ip-10-0-250-9.ec2.internal', 'TRAINING_JOB_NAME': 'randomcutforest-2021-05-02-22-26-42-056', 'NVIDIA_REQUIRE_CUDA': 'cuda>=9.0', 'TRAINING_JOB_ARN': 'arn:aws:sagemaker:us-east-1:603012210694:training-job/randomcutforest-2021-05-02-22-26-42-056', 'AWS_CONTAINER_CREDENTIALS_RELATIVE_URI': '/v2/credentials/96ef4ebb-fc6b-4d61-93cf-11ceda57c535', 'CANONICAL_ENVROOT': '/opt/amazon', 'PYTHONUNBUFFERED': 'TRUE', 'NVIDIA_VISIBLE_DEVICES': 'void', 'LD_LIBRARY_PATH': '/opt/amazon/lib/python3.7/site-packages/cv2/../../../../lib:/usr/local/nvidia/lib64:/opt/amazon/lib', 'MXNET_KVSTORE_BIGARRAY_BOUND': '400000000', 'NVIDIA_DRIVER_CAPABILITIES': 'compute,utility', 'AWS_EXECUTION_ENV': 'AWS_ECS_EC2', 'PATH': '/opt/amazon/bin:/usr/local/nvidia/bin:/usr/local/sbin:/usr/local/bin:/usr/sbin:/usr/bin:/sbin:/bin:/opt/amazon/bin:/opt/amazon/bin', 'PWD': '/', 'LANG': 'en_US.utf8', 'SAGEMAKER_METRICS_DIRECTORY': '/opt/ml/output/metrics/sagemaker', 'AWS_REGION': 'us-east-1', 'HOME': '/root', 'SHLVL': '1', 'PROTOCOL_BUFFERS_PYTHON_IMPLEMENTATION_VERSION': '2', 'OMP_NUM_THREADS': '1', 'ECS_CONTAINER_METADATA_URI': 'http://169.254.170.2/v3/08b31762-66f9-4d33-a0bd-ac69e8b4e737', 'DMLC_INTERFACE': 'eth0', 'ECS_CONTAINER_METADATA_URI_V4': 'http://169.254.170.2/v4/08b31762-66f9-4d33-a0bd-ac69e8b4e737', 'SAGEMAKER_HTTP_PORT': '8080', 'SAGEMAKER_DATA_PATH': '/opt/ml', 'KMP_DUPLICATE_LIB_OK': 'True', 'KMP_INIT_AT_FORK': 'FALSE', 'DMLC_ROLE': 'server', 'DMLC_PS_ROOT_URI': '10.0.250.9', 'DMLC_PS_ROOT_PORT': '9000', 'DMLC_NUM_SERVER': '1', 'DMLC_NUM_WORKER': '1'}\u001b[0m\n",
      "\u001b[34m[05/02/2021 22:30:15 INFO 140128021849920] Environment: {'ENVROOT': '/opt/amazon', 'PROTOCOL_BUFFERS_PYTHON_IMPLEMENTATION': 'cpp', 'HOSTNAME': 'ip-10-0-250-9.ec2.internal', 'TRAINING_JOB_NAME': 'randomcutforest-2021-05-02-22-26-42-056', 'NVIDIA_REQUIRE_CUDA': 'cuda>=9.0', 'TRAINING_JOB_ARN': 'arn:aws:sagemaker:us-east-1:603012210694:training-job/randomcutforest-2021-05-02-22-26-42-056', 'AWS_CONTAINER_CREDENTIALS_RELATIVE_URI': '/v2/credentials/96ef4ebb-fc6b-4d61-93cf-11ceda57c535', 'CANONICAL_ENVROOT': '/opt/amazon', 'PYTHONUNBUFFERED': 'TRUE', 'NVIDIA_VISIBLE_DEVICES': 'void', 'LD_LIBRARY_PATH': '/opt/amazon/lib/python3.7/site-packages/cv2/../../../../lib:/usr/local/nvidia/lib64:/opt/amazon/lib', 'MXNET_KVSTORE_BIGARRAY_BOUND': '400000000', 'NVIDIA_DRIVER_CAPABILITIES': 'compute,utility', 'AWS_EXECUTION_ENV': 'AWS_ECS_EC2', 'PATH': '/opt/amazon/bin:/usr/local/nvidia/bin:/usr/local/sbin:/usr/local/bin:/usr/sbin:/usr/bin:/sbin:/bin:/opt/amazon/bin:/opt/amazon/bin', 'PWD': '/', 'LANG': 'en_US.utf8', 'SAGEMAKER_METRICS_DIRECTORY': '/opt/ml/output/metrics/sagemaker', 'AWS_REGION': 'us-east-1', 'HOME': '/root', 'SHLVL': '1', 'PROTOCOL_BUFFERS_PYTHON_IMPLEMENTATION_VERSION': '2', 'OMP_NUM_THREADS': '1', 'ECS_CONTAINER_METADATA_URI': 'http://169.254.170.2/v3/08b31762-66f9-4d33-a0bd-ac69e8b4e737', 'DMLC_INTERFACE': 'eth0', 'ECS_CONTAINER_METADATA_URI_V4': 'http://169.254.170.2/v4/08b31762-66f9-4d33-a0bd-ac69e8b4e737', 'SAGEMAKER_HTTP_PORT': '8080', 'SAGEMAKER_DATA_PATH': '/opt/ml', 'KMP_DUPLICATE_LIB_OK': 'True', 'KMP_INIT_AT_FORK': 'FALSE', 'DMLC_ROLE': 'worker', 'DMLC_PS_ROOT_URI': '10.0.250.9', 'DMLC_PS_ROOT_PORT': '9000', 'DMLC_NUM_SERVER': '1', 'DMLC_NUM_WORKER': '1'}\u001b[0m\n",
      "\u001b[34mProcess 32 is a shell:scheduler.\u001b[0m\n",
      "\u001b[34mProcess 44 is a shell:server.\u001b[0m\n",
      "\u001b[34mProcess 1 is a worker.\u001b[0m\n",
      "\u001b[34m[05/02/2021 22:30:15 INFO 140128021849920] Using default worker.\u001b[0m\n",
      "\u001b[34m[05/02/2021 22:30:15 INFO 140128021849920] Loaded iterator creator application/x-recordio-protobuf for content type ('application/x-recordio-protobuf', '1.0')\u001b[0m\n",
      "\u001b[34m[05/02/2021 22:30:15 INFO 140128021849920] Checkpoint loading and saving are disabled.\u001b[0m\n",
      "\u001b[34m[05/02/2021 22:30:15 INFO 140128021849920] Verifying hyperparamemters...\u001b[0m\n",
      "\u001b[34m[05/02/2021 22:30:15 INFO 140128021849920] Hyperparameters are correct.\u001b[0m\n",
      "\u001b[34m[05/02/2021 22:30:15 INFO 140128021849920] Validating that feature_dim agrees with dimensions in training data...\u001b[0m\n",
      "\u001b[34m[05/02/2021 22:30:15 INFO 140128021849920] feature_dim is correct.\u001b[0m\n",
      "\u001b[34m[05/02/2021 22:30:15 INFO 140128021849920] Validating memory limits...\u001b[0m\n",
      "\u001b[34m[05/02/2021 22:30:15 INFO 140128021849920] Available memory in bytes: 6485811200\u001b[0m\n",
      "\u001b[34m[05/02/2021 22:30:15 INFO 140128021849920] Estimated sample size in bytes: 204800\u001b[0m\n",
      "\u001b[34m[05/02/2021 22:30:15 INFO 140128021849920] Estimated memory needed to build the forest in bytes: 1024000\u001b[0m\n",
      "\u001b[34m[05/02/2021 22:30:15 INFO 140128021849920] Memory limits validated.\u001b[0m\n",
      "\u001b[34m[05/02/2021 22:30:15 INFO 140128021849920] Starting cluster sharing facilities...\u001b[0m\n",
      "\u001b[34m[I 21-05-02 22:30:15] >>> starting FTP server on 0.0.0.0:8999, pid=1 <<<\u001b[0m\n",
      "\u001b[34m[05/02/2021 22:30:15 INFO 140128021849920] Create Store: dist_async\u001b[0m\n",
      "\u001b[34m[05/02/2021 22:30:15 INFO 140126635665152] >>> starting FTP server on 0.0.0.0:8999, pid=1 <<<\u001b[0m\n",
      "\u001b[34m[I 21-05-02 22:30:15] poller: <class 'pyftpdlib.ioloop.Epoll'>\u001b[0m\n",
      "\u001b[34m[05/02/2021 22:30:15 INFO 140126635665152] poller: <class 'pyftpdlib.ioloop.Epoll'>\u001b[0m\n",
      "\u001b[34m[I 21-05-02 22:30:15] masquerade (NAT) address: None\u001b[0m\n",
      "\u001b[34m[05/02/2021 22:30:15 INFO 140126635665152] masquerade (NAT) address: None\u001b[0m\n",
      "\u001b[34m[I 21-05-02 22:30:15] passive ports: None\u001b[0m\n",
      "\u001b[34m[05/02/2021 22:30:15 INFO 140126635665152] passive ports: None\u001b[0m\n",
      "\u001b[34m[I 21-05-02 22:30:15] use sendfile(2): True\u001b[0m\n",
      "\u001b[34m[05/02/2021 22:30:15 INFO 140126635665152] use sendfile(2): True\u001b[0m\n",
      "\u001b[34m[05/02/2021 22:30:17 INFO 140128021849920] Cluster sharing facilities started.\u001b[0m\n",
      "\u001b[34m[05/02/2021 22:30:17 INFO 140128021849920] Verifying all workers are accessible...\u001b[0m\n",
      "\u001b[34m[05/02/2021 22:30:17 INFO 140128021849920] All workers accessible.\u001b[0m\n",
      "\u001b[34m[05/02/2021 22:30:17 INFO 140128021849920] Initializing Sampler...\u001b[0m\n",
      "\u001b[34m[05/02/2021 22:30:17 INFO 140128021849920] Sampler correctly initialized.\u001b[0m\n",
      "\u001b[34m#metrics {\"StartTime\": 1619994615.4263601, \"EndTime\": 1619994617.0323787, \"Dimensions\": {\"Algorithm\": \"RandomCutForest\", \"Host\": \"algo-1\", \"Operation\": \"training\"}, \"Metrics\": {\"initialize.time\": {\"sum\": 1605.5808067321777, \"count\": 1, \"min\": 1605.5808067321777, \"max\": 1605.5808067321777}}}\n",
      "\u001b[0m\n",
      "\u001b[34m#metrics {\"StartTime\": 1619994617.0328097, \"EndTime\": 1619994617.0328572, \"Dimensions\": {\"Algorithm\": \"RandomCutForest\", \"Host\": \"algo-1\", \"Operation\": \"training\", \"Meta\": \"init_train_data_iter\"}, \"Metrics\": {\"Total Records Seen\": {\"sum\": 0.0, \"count\": 1, \"min\": 0, \"max\": 0}, \"Total Batches Seen\": {\"sum\": 0.0, \"count\": 1, \"min\": 0, \"max\": 0}, \"Max Records Seen Between Resets\": {\"sum\": 0.0, \"count\": 1, \"min\": 0, \"max\": 0}, \"Max Batches Seen Between Resets\": {\"sum\": 0.0, \"count\": 1, \"min\": 0, \"max\": 0}, \"Reset Count\": {\"sum\": 0.0, \"count\": 1, \"min\": 0, \"max\": 0}, \"Number of Records Since Last Reset\": {\"sum\": 0.0, \"count\": 1, \"min\": 0, \"max\": 0}, \"Number of Batches Since Last Reset\": {\"sum\": 0.0, \"count\": 1, \"min\": 0, \"max\": 0}}}\n",
      "\u001b[0m\n",
      "\u001b[34m[05/02/2021 22:30:17 INFO 140128021849920] Sampling training data...\u001b[0m\n",
      "\u001b[34m[05/02/2021 22:30:17 INFO 140128021849920] Sampling training data completed.\u001b[0m\n",
      "\u001b[34m#metrics {\"StartTime\": 1619994617.0327494, \"EndTime\": 1619994617.095724, \"Dimensions\": {\"Algorithm\": \"RandomCutForest\", \"Host\": \"algo-1\", \"Operation\": \"training\"}, \"Metrics\": {\"epochs\": {\"sum\": 1.0, \"count\": 1, \"min\": 1, \"max\": 1}, \"update.time\": {\"sum\": 62.36100196838379, \"count\": 1, \"min\": 62.36100196838379, \"max\": 62.36100196838379}}}\n",
      "\u001b[0m\n",
      "\u001b[34m[05/02/2021 22:30:17 INFO 140128021849920] Early stop condition met. Stopping training.\u001b[0m\n",
      "\u001b[34m[05/02/2021 22:30:17 INFO 140128021849920] #progress_metric: host=algo-1, completed 100 % epochs\u001b[0m\n",
      "\u001b[34m#metrics {\"StartTime\": 1619994617.0333352, \"EndTime\": 1619994617.096586, \"Dimensions\": {\"Algorithm\": \"RandomCutForest\", \"Host\": \"algo-1\", \"Operation\": \"training\", \"epoch\": 0, \"Meta\": \"training_data_iter\"}, \"Metrics\": {\"Total Records Seen\": {\"sum\": 7990.0, \"count\": 1, \"min\": 7990, \"max\": 7990}, \"Total Batches Seen\": {\"sum\": 8.0, \"count\": 1, \"min\": 8, \"max\": 8}, \"Max Records Seen Between Resets\": {\"sum\": 7990.0, \"count\": 1, \"min\": 7990, \"max\": 7990}, \"Max Batches Seen Between Resets\": {\"sum\": 8.0, \"count\": 1, \"min\": 8, \"max\": 8}, \"Reset Count\": {\"sum\": 1.0, \"count\": 1, \"min\": 1, \"max\": 1}, \"Number of Records Since Last Reset\": {\"sum\": 7990.0, \"count\": 1, \"min\": 7990, \"max\": 7990}, \"Number of Batches Since Last Reset\": {\"sum\": 8.0, \"count\": 1, \"min\": 8, \"max\": 8}}}\n",
      "\u001b[0m\n",
      "\u001b[34m[05/02/2021 22:30:17 INFO 140128021849920] #throughput_metric: host=algo-1, train throughput=125610.91230753085 records/second\u001b[0m\n",
      "\u001b[34m[05/02/2021 22:30:17 INFO 140128021849920] Master node: building Random Cut Forest...\u001b[0m\n",
      "\u001b[34m[05/02/2021 22:30:17 INFO 140128021849920] Gathering samples...\u001b[0m\n",
      "\u001b[34m[05/02/2021 22:30:17 INFO 140128021849920] 7990 samples gathered\u001b[0m\n",
      "\u001b[34m[05/02/2021 22:30:17 INFO 140128021849920] Building Random Cut Forest...\u001b[0m\n",
      "\u001b[34m[05/02/2021 22:30:17 INFO 140128021849920] Random Cut Forest built: \n",
      "\u001b[0m\n",
      "\u001b[34mForestInfo{num_trees: 100, num_samples_in_forest: 7900, num_samples_per_tree: 79, sample_dim: 1, shingle_size: 1, trees_num_nodes: [133, 141, 137, 119, 149, 137, 141, 129, 143, 137, 133, 133, 147, 137, 137, 139, 131, 133, 115, 129, 121, 141, 133, 141, 131, 149, 137, 143, 127, 151, 135, 135, 143, 113, 131, 139, 139, 135, 141, 135, 145, 135, 145, 137, 149, 141, 143, 141, 135, 141, 143, 137, 139, 141, 135, 137, 135, 139, 123, 145, 139, 151, 143, 147, 153, 141, 143, 129, 145, 141, 147, 133, 145, 141, 143, 137, 147, 139, 145, 137, 147, 143, 127, 137, 131, 135, 141, 149, 131, 147, 141, 153, 129, 133, 133, 141, 139, 131, 143, 133, ], trees_depth: [18, 18, 17, 11, 16, 12, 13, 15, 15, 14, 14, 13, 13, 14, 9, 13, 15, 11, 11, 13, 12, 15, 16, 12, 15, 13, 17, 14, 16, 14, 14, 13, 14, 14, 12, 12, 12, 17, 14, 17, 13, 14, 11, 13, 12, 15, 12, 15, 16, 12, 15, 17, 12, 13, 12, 12, 13, 15, 16, 12, 13, 15, 14, 11, 15, 12, 13, 12, 16, 17, 14, 12, 13, 13, 15, 13, 14, 11, 13, 15, 13, 13, 16, 12, 12, 13, 15, 15, 16, 13, 12, 13, 15, 12, 12, 13, 11, 12, 13, 14, ], max_num_nodes: 153, min_num_nodes: 113, avg_num_nodes: 138, max_tree_depth: 18, min_tree_depth: 9, avg_tree_depth: 13, mem_size: 1437712}\u001b[0m\n",
      "\u001b[34m#metrics {\"StartTime\": 1619994617.0960627, \"EndTime\": 1619994617.112816, \"Dimensions\": {\"Algorithm\": \"RandomCutForest\", \"Host\": \"algo-1\", \"Operation\": \"training\"}, \"Metrics\": {\"fit_model.time\": {\"sum\": 7.107257843017578, \"count\": 1, \"min\": 7.107257843017578, \"max\": 7.107257843017578}, \"model.bytes\": {\"sum\": 1437712.0, \"count\": 1, \"min\": 1437712, \"max\": 1437712}, \"finalize.time\": {\"sum\": 15.519380569458008, \"count\": 1, \"min\": 15.519380569458008, \"max\": 15.519380569458008}}}\n",
      "\u001b[0m\n",
      "\u001b[34m[05/02/2021 22:30:17 INFO 140128021849920] Master node: Serializing the RandomCutForest model\u001b[0m\n",
      "\u001b[34m#metrics {\"StartTime\": 1619994617.1131697, \"EndTime\": 1619994617.138002, \"Dimensions\": {\"Algorithm\": \"RandomCutForest\", \"Host\": \"algo-1\", \"Operation\": \"training\"}, \"Metrics\": {\"serialize_model.time\": {\"sum\": 24.740219116210938, \"count\": 1, \"min\": 24.740219116210938, \"max\": 24.740219116210938}}}\n",
      "\u001b[0m\n",
      "\u001b[34m[05/02/2021 22:30:17 INFO 140128021849920] Test data is not provided.\u001b[0m\n",
      "\u001b[34m#metrics {\"StartTime\": 1619994617.138057, \"EndTime\": 1619994617.138353, \"Dimensions\": {\"Algorithm\": \"RandomCutForest\", \"Host\": \"algo-1\", \"Operation\": \"training\"}, \"Metrics\": {\"setuptime\": {\"sum\": 29.196500778198242, \"count\": 1, \"min\": 29.196500778198242, \"max\": 29.196500778198242}, \"totaltime\": {\"sum\": 1754.5678615570068, \"count\": 1, \"min\": 1754.5678615570068, \"max\": 1754.5678615570068}}}\n",
      "\u001b[0m\n"
     ]
    },
    {
     "name": "stdout",
     "output_type": "stream",
     "text": [
      "\n",
      "2021-05-02 22:30:30 Uploading - Uploading generated training model\n",
      "2021-05-02 22:30:30 Completed - Training job completed\n",
      "Training seconds: 69\n",
      "Billable seconds: 69\n"
     ]
    }
   ],
   "source": [
    "rcf_estimator.fit(rcf_data)"
   ]
  },
  {
   "cell_type": "code",
   "execution_count": 96,
   "metadata": {},
   "outputs": [
    {
     "name": "stdout",
     "output_type": "stream",
     "text": [
      "-----------------!"
     ]
    }
   ],
   "source": [
    "from time import strftime, gmtime\n",
    "timestamp = strftime('%d-%H-%M-%S', gmtime())\n",
    "\n",
    "endpoint_name = 'rcf-demo'+'-'+timestamp\n",
    "\n",
    "rcf_predictor = rcf_estimator.deploy(endpoint_name=endpoint_name, \n",
    "                        initial_instance_count=1, \n",
    "                        instance_type='ml.t2.medium')"
   ]
  },
  {
   "cell_type": "markdown",
   "metadata": {},
   "source": [
    "After a few minutes, the model is deployed. We convert the input time series to\n",
    "a Python list, and we send it to the endpoint for prediction. We use CSV and JSON,\n",
    "respectively, for serialization and deserialization:"
   ]
  },
  {
   "cell_type": "code",
   "execution_count": 105,
   "metadata": {},
   "outputs": [],
   "source": [
    "rcf_predictor.serializer = sagemaker.serializers.CSVSerializer()\n",
    "rcf_predictor.deserializer = sagemaker.deserializers.JSONDeserializer()\n",
    "\n",
    "values = df['value'].astype('str').tolist()\n",
    "response = rcf_predictor.predict(values)\n",
    "\n",
    "#print(\"\\nThe response contains the anomaly score for each value in the time series. It looks like this:\\n\")\n",
    "#print(response)"
   ]
  },
  {
   "cell_type": "markdown",
   "metadata": {},
   "source": [
    "We then convert this response to a Python list, and we then compute its mean and\n",
    "its standard deviation:"
   ]
  },
  {
   "cell_type": "code",
   "execution_count": 106,
   "metadata": {},
   "outputs": [],
   "source": [
    "from statistics import mean,stdev\n",
    "\n",
    "scores = []\n",
    "for s in response['scores']:\n",
    "    scores.append(s['score'])\n",
    "    \n",
    "score_mean = mean(scores)\n",
    "score_std = stdev(scores)"
   ]
  },
  {
   "cell_type": "code",
   "execution_count": 107,
   "metadata": {},
   "outputs": [],
   "source": [
    "#df[2000:2500].plot(figsize=(40,10))"
   ]
  },
  {
   "cell_type": "code",
   "execution_count": 108,
   "metadata": {},
   "outputs": [],
   "source": [
    "#plt.figure(figsize=(40,10))\n",
    "#plt.plot(scores[2000:2500])\n",
    "#plt.autoscale(tight=True)\n",
    "#plt.axhline(y=score_mean+3*score_std, color='red')\n",
    "#plt.show()"
   ]
  },
  {
   "cell_type": "markdown",
   "metadata": {},
   "source": [
    "### deleting endpoint"
   ]
  },
  {
   "cell_type": "code",
   "execution_count": 109,
   "metadata": {},
   "outputs": [],
   "source": [
    "rcf_predictor.delete_endpoint()"
   ]
  },
  {
   "cell_type": "code",
   "execution_count": null,
   "metadata": {},
   "outputs": [],
   "source": []
  }
 ],
 "metadata": {
  "kernelspec": {
   "display_name": "SAGEMAKER",
   "language": "python",
   "name": "sagemaker"
  },
  "language_info": {
   "codemirror_mode": {
    "name": "ipython",
    "version": 3
   },
   "file_extension": ".py",
   "mimetype": "text/x-python",
   "name": "python",
   "nbconvert_exporter": "python",
   "pygments_lexer": "ipython3",
   "version": "3.8.5"
  }
 },
 "nbformat": 4,
 "nbformat_minor": 4
}
